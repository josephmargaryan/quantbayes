{
  "cells": [
    {
      "cell_type": "markdown",
      "metadata": {
        "id": "0gptEv_UkLPf"
      },
      "source": [
        "# Code template for hand-in on reconstruction attacks.\n",
        "\n",
        "Advanced Topics in Machine Learning, U. Copenhagen, fall 2024\n",
        "\n",
        "Created by Rasmus Pagh with minor edits by Thomas Christensen\n",
        "\n",
        "Queries on a hidden dataset x from {-1,+1}^100 can be made via the query method below\n",
        "which calls a web API that allows dot product queries with vectors in {-1,+1}^100.\n",
        "To protect data, Laplace noise is added to responses. Using the techniques you have\n",
        "seen in the lecture it is possible to partially reconstruct the dataset using 200 queries.\n",
        "To make sure that you get a unique challenge, choose any unique string as your challenge\n",
        "identifier. The web API will keep track of the number of queries made for each identifier."
      ]
    },
    {
      "cell_type": "markdown",
      "metadata": {
        "id": "dyLpL0gdnquz"
      },
      "source": [
        "# Support function for querying the web API"
      ]
    },
    {
      "cell_type": "code",
      "execution_count": 31,
      "metadata": {
        "id": "L1Mb8xGZkTPO"
      },
      "outputs": [],
      "source": [
        "import numpy as np\n",
        "import requests as rq\n",
        "import ast\n",
        "\n",
        "def query(challenge_id, query_vector, submit=False):\n",
        "    assert challenge_id.isalnum()\n",
        "    assert np.max(np.minimum(np.abs(query_vector - 1), np.abs(query_vector + 1))) == 0\n",
        "\n",
        "    if query_vector.ndim == 1:\n",
        "        query_vector = query_vector.reshape(1, -1)\n",
        "\n",
        "    payload = {'challengeid': challenge_id, 'submit': submit, 'query': str(query_vector.tolist())}\n",
        "    response = rq.post(\"https://baconbreaker.pythonanywhere.com/query\", data=payload).json()\n",
        "    if submit is False:\n",
        "        return np.array(ast.literal_eval(response['result']))\n",
        "    else:\n",
        "        return response['result']\n",
        "\n"
      ]
    },
    {
      "cell_type": "markdown",
      "metadata": {
        "id": "mgh9MtPmnyEl"
      },
      "source": [
        "# Making random queries to the API"
      ]
    },
    {
      "cell_type": "code",
      "execution_count": 35,
      "metadata": {
        "colab": {
          "base_uri": "https://localhost:8080/"
        },
        "id": "rACAhWmE9zkq",
        "outputId": "a2197f4b-40cd-4af9-b190-dcf076903033"
      },
      "outputs": [
        {
          "name": "stdout",
          "output_type": "stream",
          "text": [
            "Collected 512 responses. A shape (512, 256), r in [-133,109]\n"
          ]
        }
      ],
      "source": [
        "# Fresh unique alphanumeric challenge_id each run\n",
        "challenge_id = 'josephdgb111'  # letters/digits only\n",
        "\n",
        "n = 256\n",
        "m = 2 * n\n",
        "\n",
        "rng = np.random.default_rng(42)  # feel free to try a few seeds across *different* challenge IDs\n",
        "A = rng.choice([-1, +1], size=(m, n), replace=True).astype(int)\n",
        "\n",
        "# Single API call with all 2n queries\n",
        "r = query(challenge_id, A).astype(float).ravel()\n",
        "print(f\"Collected {len(r)} responses. A shape {A.shape}, r in [{r.min():.0f},{r.max():.0f}]\")\n"
      ]
    },
    {
      "cell_type": "markdown",
      "metadata": {
        "id": "uiUoCqxtknZj"
      },
      "source": [
        "# Baseline reconstruction attack: Guess equals the best query\n",
        "\n",
        "Copy the notebook and replace with your attack. The first submission for a given challenge_id is stored on the server and on the leaderboard: http://baconbreaker.pythonanywhere.com/leaderboard/?n=100"
      ]
    },
    {
      "cell_type": "markdown",
      "metadata": {
        "id": "wBzhULS8lfJf"
      },
      "source": [
        "**Tip**: to solve a linear program you can use the following import:\n",
        "\n",
        "```\n",
        "from scipy.optimize import linprog\n",
        "```\n",
        "\n"
      ]
    },
    {
      "cell_type": "code",
      "execution_count": 36,
      "metadata": {
        "colab": {
          "base_uri": "https://localhost:8080/"
        },
        "id": "KNEVYeK5klgu",
        "outputId": "dcdc2abe-cc21-4ae9-9be5-6f14a0e6450e"
      },
      "outputs": [
        {
          "name": "stdout",
          "output_type": "stream",
          "text": [
            "Standard L1 LP solved. Candidate x_guess ready.\n"
          ]
        }
      ],
      "source": [
        "from scipy.optimize import linprog\n",
        "\n",
        "# Variables: v (n), t (m)\n",
        "# Minimize: sum_j t_j\n",
        "# Subject to:\n",
        "#   A v - t <= r\n",
        "#  -A v - t <= -r\n",
        "#   -1 <= v_i <= 1, t_j >= 0\n",
        "n = A.shape[1]\n",
        "m = A.shape[0]\n",
        "\n",
        "c = np.concatenate([np.zeros(n), np.ones(m)])\n",
        "\n",
        "A_ub = np.zeros((2*m, n + m))\n",
        "b_ub = np.zeros(2*m)\n",
        "\n",
        "# A v - t <= r\n",
        "A_ub[:m, :n] = A\n",
        "A_ub[:m, n:] = -np.eye(m)\n",
        "b_ub[:m] = r\n",
        "\n",
        "# -A v - t <= -r\n",
        "A_ub[m:, :n] = -A\n",
        "A_ub[m:, n:] = -np.eye(m)\n",
        "b_ub[m:] = -r\n",
        "\n",
        "bounds = [(-1.0, 1.0)]*n + [(0.0, None)]*m\n",
        "\n",
        "res = linprog(c, A_ub=A_ub, b_ub=b_ub, bounds=bounds, method='highs')\n",
        "assert res.success, f\"LP failed: {res.message}\"\n",
        "\n",
        "v_hat = res.x[:n]\n",
        "x_guess = np.where(v_hat >= 0, 1, -1).astype(int)\n",
        "print(\"Standard L1 LP solved. Candidate x_guess ready.\")\n"
      ]
    },
    {
      "cell_type": "code",
      "execution_count": 37,
      "metadata": {},
      "outputs": [
        {
          "name": "stdout",
          "output_type": "stream",
          "text": [
            "=== Reconstruction Report ===\n",
            "Inner product: 198\n",
            "Correct: 227/256 (88.67%)\n",
            "Challenge ID: josephdgb111\n",
            "Leaderboard: http://baconbreaker.pythonanywhere.com/leaderboard/?n=256\n"
          ]
        }
      ],
      "source": [
        "result = query(challenge_id, x_guess, submit=True)\n",
        "\n",
        "# The server typically returns the inner product <x_hat, x>.\n",
        "try:\n",
        "    inner = float(result)\n",
        "except Exception:\n",
        "    import re\n",
        "    m_ = re.search(r'-?\\d+', str(result))\n",
        "    inner = float(m_.group()) if m_ else float('nan')\n",
        "\n",
        "n = 256\n",
        "num_correct = int((n + inner) / 2)\n",
        "acc = (1.0 + inner / n) / 2.0\n",
        "\n",
        "print(\"=== Reconstruction Report ===\")\n",
        "print(f\"Inner product: {inner:.0f}\")\n",
        "print(f\"Correct: {num_correct}/{n} ({100*acc:.2f}%)\")\n",
        "print(f\"Challenge ID: {challenge_id}\")\n",
        "print(f\"Leaderboard: http://baconbreaker.pythonanywhere.com/leaderboard/?n={n}\")\n"
      ]
    },
    {
      "cell_type": "code",
      "execution_count": 8,
      "metadata": {},
      "outputs": [
        {
          "name": "stdout",
          "output_type": "stream",
          "text": [
            "Mean absolute value of Laplace noise samples: 3.00\n"
          ]
        }
      ],
      "source": [
        "import numpy as np \n",
        "\n",
        "def sample_laplace_noise(scale):\n",
        "    return np.random.laplace(loc=0.0, scale=scale, size=None)\n",
        "\n",
        "samples = [np.abs(sample_laplace_noise(3.0)) for _ in range(1000000)]\n",
        "print(f\"Mean absolute value of Laplace noise samples: {np.mean(samples):.2f}\")"
      ]
    }
  ],
  "metadata": {
    "colab": {
      "provenance": []
    },
    "kernelspec": {
      "display_name": "venv",
      "language": "python",
      "name": "python3"
    },
    "language_info": {
      "codemirror_mode": {
        "name": "ipython",
        "version": 3
      },
      "file_extension": ".py",
      "mimetype": "text/x-python",
      "name": "python",
      "nbconvert_exporter": "python",
      "pygments_lexer": "ipython3",
      "version": "3.11.4"
    }
  },
  "nbformat": 4,
  "nbformat_minor": 0
}
